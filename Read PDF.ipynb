{
 "cells": [
  {
   "cell_type": "code",
   "execution_count": 1,
   "id": "4bcc97b9",
   "metadata": {},
   "outputs": [],
   "source": [
    "from pdfminer.pdfinterp import PDFResourceManager, PDFPageInterpreter\n",
    "from pdfminer.converter import TextConverter, XMLConverter, HTMLConverter\n",
    "from pdfminer.layout import LAParams\n",
    "from pdfminer.pdfpage import PDFPage\n",
    "from io import BytesIO\n",
    "\n",
    "def convert_pdf(path, format='text', codec='utf-8', password=''):\n",
    "    rsrcmgr = PDFResourceManager()\n",
    "    retstr = BytesIO()\n",
    "    laparams = LAParams()\n",
    "    if format == 'text':\n",
    "        device = TextConverter(rsrcmgr, retstr, codec=codec, laparams=laparams)\n",
    "    elif format == 'html':\n",
    "        device = HTMLConverter(rsrcmgr, retstr, codec=codec, laparams=laparams)\n",
    "    elif format == 'xml':\n",
    "        device = XMLConverter(rsrcmgr, retstr, codec=codec, laparams=laparams)\n",
    "    else:\n",
    "        raise ValueError('provide format, either text, html or xml!')\n",
    "    fp = open(path, 'rb')\n",
    "    interpreter = PDFPageInterpreter(rsrcmgr, device)\n",
    "    maxpages = 0\n",
    "    caching = True\n",
    "    pagenos=set()\n",
    "    for page in PDFPage.get_pages(fp, pagenos, maxpages=maxpages, password=password,caching=caching, check_extractable=True):\n",
    "        interpreter.process_page(page)\n",
    "\n",
    "    text = retstr.getvalue().decode()\n",
    "    fp.close()\n",
    "    device.close()\n",
    "    retstr.close()\n",
    "    return text"
   ]
  },
  {
   "cell_type": "code",
   "execution_count": 2,
   "id": "c7c2abfc",
   "metadata": {},
   "outputs": [
    {
     "name": "stdout",
     "output_type": "stream",
     "text": [
      "\f",
      "\f",
      "\f",
      "\f",
      "\f",
      "\f",
      "\f",
      "\n"
     ]
    }
   ],
   "source": [
    "print(convert_pdf('Алгоритм.pdf'))"
   ]
  },
  {
   "cell_type": "code",
   "execution_count": 3,
   "id": "661a8da5",
   "metadata": {},
   "outputs": [],
   "source": [
    "from pdfminer.pdfinterp import PDFResourceManager, PDFPageInterpreter\n",
    "from pdfminer.converter import TextConverter\n",
    "from pdfminer.layout import LAParams\n",
    "from pdfminer.pdfpage import PDFPage\n",
    "from io import StringIO\n",
    "\n",
    "def convert_pdf_to_txt(path):\n",
    "    rsrcmgr = PDFResourceManager()\n",
    "    retstr = StringIO()\n",
    "    codec = 'utf-8'\n",
    "    laparams = LAParams()\n",
    "    device = TextConverter(rsrcmgr, retstr, codec=codec, laparams=laparams)\n",
    "    fp = open(path, 'rb')\n",
    "    interpreter = PDFPageInterpreter(rsrcmgr, device)\n",
    "    password = \"\"\n",
    "    maxpages = 0\n",
    "    caching = True\n",
    "    pagenos=set()\n",
    "\n",
    "    for page in PDFPage.get_pages(fp, pagenos, maxpages=maxpages, password=password,caching=caching, check_extractable=True):\n",
    "        interpreter.process_page(page)\n",
    "\n",
    "    text = retstr.getvalue()\n",
    "\n",
    "    fp.close()\n",
    "    device.close()\n",
    "    retstr.close()\n",
    "    return text"
   ]
  },
  {
   "cell_type": "code",
   "execution_count": 4,
   "id": "9d4ac798",
   "metadata": {},
   "outputs": [
    {
     "data": {
      "text/plain": [
       "'\\x0c\\x0c\\x0c\\x0c\\x0c\\x0c\\x0c'"
      ]
     },
     "execution_count": 4,
     "metadata": {},
     "output_type": "execute_result"
    }
   ],
   "source": [
    "x = convert_pdf_to_txt('Алгоритм.pdf')\n",
    "x"
   ]
  },
  {
   "cell_type": "code",
   "execution_count": 7,
   "id": "ddf5b99e",
   "metadata": {},
   "outputs": [
    {
     "name": "stdout",
     "output_type": "stream",
     "text": [
      "Исходный документ:  Document('Алгоритм.pdf')\n",
      "\n",
      "Количество страниц: 7\n",
      "\n",
      "------------------\n",
      "\n",
      "\n",
      "{'format': 'PDF 1.7', 'title': '', 'author': '', 'subject': '', 'keywords': '', 'creator': '', 'producer': '', 'creationDate': '', 'modDate': '', 'trapped': '', 'encryption': None}\n",
      "Стр.  1 \n",
      "\n",
      "Содержание;\n",
      "\n",
      "\n",
      "Стр.  2 \n",
      "\n",
      "Содержание;\n",
      "\n",
      "\n",
      "Стр.  3 \n",
      "\n",
      "Содержание;\n",
      "\n",
      "\n",
      "Стр.  4 \n",
      "\n",
      "Содержание;\n",
      "\n",
      "\n",
      "Стр.  5 \n",
      "\n",
      "Содержание;\n",
      "\n",
      "\n",
      "Стр.  6 \n",
      "\n",
      "Содержание;\n",
      "\n",
      "\n",
      "Стр.  7 \n",
      "\n",
      "Содержание;\n",
      "\n",
      "\n"
     ]
    }
   ],
   "source": [
    "import fitz\n",
    "\n",
    "pdf_document = \"Алгоритм.pdf\"\n",
    "doc = fitz.open(pdf_document)\n",
    "print(\"Исходный документ: \", doc)\n",
    "print(\"\\nКоличество страниц: %i\\n\\n------------------\\n\\n\" % doc.pageCount)\n",
    "print(doc.metadata)\n",
    "\n",
    "for current_page in range(len(doc)):\n",
    "    page = doc.load_page(current_page)\n",
    "    page_text = page.get_text(\"text\")\n",
    "    print(\"Стр. \", current_page+1, \"\\n\\nСодержание;\\n\")\n",
    "    print(page_text)"
   ]
  },
  {
   "cell_type": "code",
   "execution_count": null,
   "id": "117aa77c",
   "metadata": {},
   "outputs": [],
   "source": []
  },
  {
   "cell_type": "code",
   "execution_count": null,
   "id": "e3dbc5bc",
   "metadata": {},
   "outputs": [],
   "source": []
  },
  {
   "cell_type": "code",
   "execution_count": null,
   "id": "162ad33e",
   "metadata": {},
   "outputs": [],
   "source": []
  },
  {
   "cell_type": "code",
   "execution_count": null,
   "id": "efca07a0",
   "metadata": {},
   "outputs": [],
   "source": []
  },
  {
   "cell_type": "code",
   "execution_count": null,
   "id": "830a9071",
   "metadata": {},
   "outputs": [],
   "source": []
  },
  {
   "cell_type": "code",
   "execution_count": null,
   "id": "333151c9",
   "metadata": {},
   "outputs": [],
   "source": []
  },
  {
   "cell_type": "code",
   "execution_count": null,
   "id": "fbf229a3",
   "metadata": {},
   "outputs": [],
   "source": []
  }
 ],
 "metadata": {
  "kernelspec": {
   "display_name": "Python 3",
   "language": "python",
   "name": "python3"
  },
  "language_info": {
   "codemirror_mode": {
    "name": "ipython",
    "version": 3
   },
   "file_extension": ".py",
   "mimetype": "text/x-python",
   "name": "python",
   "nbconvert_exporter": "python",
   "pygments_lexer": "ipython3",
   "version": "3.8.8"
  }
 },
 "nbformat": 4,
 "nbformat_minor": 5
}
